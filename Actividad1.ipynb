{
  "nbformat": 4,
  "nbformat_minor": 0,
  "metadata": {
    "colab": {
      "provenance": [],
      "collapsed_sections": [],
      "include_colab_link": true
    },
    "kernelspec": {
      "name": "python3",
      "display_name": "Python 3"
    },
    "language_info": {
      "name": "python"
    }
  },
  "cells": [
    {
      "cell_type": "markdown",
      "metadata": {
        "id": "view-in-github",
        "colab_type": "text"
      },
      "source": [
        "<a href=\"https://colab.research.google.com/github/PosgradoMNA/actividades-del-projecto-los_k-means/blob/main/Actividad1.ipynb\" target=\"_parent\"><img src=\"https://colab.research.google.com/assets/colab-badge.svg\" alt=\"Open In Colab\"/></a>"
      ]
    },
    {
      "cell_type": "markdown",
      "source": [
        "# ACTIVIDAD 1: IDENTIFICAR FUENTES DE DATOS\n"
      ],
      "metadata": {
        "id": "7sxvDnZLcBry"
      }
    },
    {
      "cell_type": "code",
      "source": [
        "#NOMBRE CONJUNTO DE DATOS:\n",
        "#Inclusión Financiera en Colombia"
      ],
      "metadata": {
        "id": "ygKrRnO9cnJP"
      },
      "execution_count": 5,
      "outputs": []
    },
    {
      "cell_type": "code",
      "source": [
        "#ORGANIZACIÓN QUE LO GENERA:\n",
        "#Superindendencia Financiera de Colombia"
      ],
      "metadata": {
        "id": "Fyl9TfgcqjDD"
      },
      "execution_count": 3,
      "outputs": []
    },
    {
      "cell_type": "code",
      "source": [
        "#ENLACE DE DESCARGA:\n",
        "# https://www.datos.gov.co/Econom-a-y-Finanzas/Inclusi-n-Financiera/kx2f-xjdq/data"
      ],
      "metadata": {
        "id": "oqRL0XXEqu0C"
      },
      "execution_count": 4,
      "outputs": []
    },
    {
      "cell_type": "code",
      "source": [
        "#PREGUNTAS DE INVESTIGACÓN\n",
        "\n",
        "#1 ¿La inlclusión financiera tiene una relación directa con la cantidad de corresponsales bancarios en los municipios de Colombia?\n",
        "#2 ¿Existe una tendencia hacia el microcredito en los municipios fuera el casco urbano?\n",
        "#3 ¿Cuales son los tipos de productos financieros predominantes por genero en cada departamento?\n",
        "#4 ¿En cuales municipios existen oportunidades en colocación de crédito de acuerdo a sus niveles de pasivo?\n",
        "#5 ¿Cúal es el producto financiero más usado por cada genero (Crédito de consumo, Crédito Hipotecario, Cuenta de Ahorro, Microcredito)\n",
        "#6 ¿Cuales son las zonas que tienen mayor tendencia a obtener un crédito hipotecario?\n",
        "#7 ¿Existe una correlación inversa entre la cantidad de microcreditos y la cantidad de ahorro en los municipios?\n",
        "#8 ¿Existe una entidad financiera con una correlación directa en la aprobación de productos de crédito por genero?"
      ],
      "metadata": {
        "id": "BWgYwNnTq55T"
      },
      "execution_count": 6,
      "outputs": []
    },
    {
      "cell_type": "code",
      "source": [
        "#ACTORES\n",
        "#Superitendencia Financiera de Colombia - ONG especializadas en la diversidad e inclusión - Entidades Financieras"
      ],
      "metadata": {
        "id": "341YG9HoA5f7"
      },
      "execution_count": null,
      "outputs": []
    }
  ]
}