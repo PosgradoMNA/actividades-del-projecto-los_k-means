{
  "cells": [
    {
      "cell_type": "markdown",
      "metadata": {
        "colab_type": "text",
        "id": "view-in-github"
      },
      "source": [
        "<a href=\"https://colab.research.google.com/github/PosgradoMNA/actividades-del-projecto-los_k-means/blob/main/Actividad1.ipynb\" target=\"_parent\"><img src=\"https://colab.research.google.com/assets/colab-badge.svg\" alt=\"Open In Colab\"/></a>"
      ]
    },
    {
      "cell_type": "markdown",
      "metadata": {},
      "source": [
        "# Proyecto final\n",
        "- Nicolás Mojica Gómez\n",
        "    a01794354\n",
        "- Erick Alexei Cambray Servin\n",
        "    a01794243"
      ]
    },
    {
      "cell_type": "markdown",
      "metadata": {
        "id": "7sxvDnZLcBry"
      },
      "source": [
        "## Avance 1: Identificar fuentes de datos\n"
      ]
    },
    {
      "cell_type": "markdown",
      "metadata": {
        "id": "ygKrRnO9cnJP"
      },
      "source": [
        "NOMBRE CONJUNTO DE DATOS: Inclusión Financiera en Colombia\n",
        "\n",
        "ORGANIZACIÓN QUE LO GENERA: Superindendencia Financiera de Colombia\n",
        "\n",
        "ENLACE DE DESCARGA: https://www.datos.gov.co/Econom-a-y-Finanzas/Inclusi-n-Financiera/kx2f-xjdq/data"
      ]
    },
    {
      "cell_type": "markdown",
      "metadata": {
        "id": "BWgYwNnTq55T"
      },
      "source": [
        "PREGUNTAS DE INVESTIGACÓN\n",
        "\n",
        "1. ¿La inlclusión financiera tiene una relación directa con la cantidad de corresponsales bancarios en los municipios de Colombia?\n",
        "2. ¿Existe una tendencia hacia el microcredito en los municipios fuera el casco urbano?\n",
        "3. ¿Cuales son los tipos de productos financieros predominantes por genero en cada departamento?\n",
        "4. ¿En cuales municipios existen oportunidades en colocación de crédito de acuerdo a sus niveles de pasivo?\n",
        "5. ¿Cúal es el producto financiero más usado por cada genero (Crédito de consumo, Crédito Hipotecario, Cuenta de Ahorro, Microcredito)\n",
        "6. ¿Cuales son las zonas que tienen mayor tendencia a obtener un crédito hipotecario?\n",
        "7. ¿Existe una correlación inversa entre la cantidad de microcreditos y la cantidad de ahorro en los municipios?\n",
        "8. ¿Existe una entidad financiera con una correlación directa en la aprobación de productos de crédito por genero?"
      ]
    },
    {
      "cell_type": "markdown",
      "metadata": {
        "id": "341YG9HoA5f7"
      },
      "source": [
        "Actores interesados.\n",
        "- Superitendencia Financiera de Colombia\n",
        "- ONG especializadas en la diversidad e inclusión\n",
        "- Entidades Financieras"
      ]
    },
    {
      "cell_type": "markdown",
      "metadata": {},
      "source": [
        "## Avance 2: Identificar metodología"
      ]
    },
    {
      "cell_type": "markdown",
      "metadata": {},
      "source": [
        "### Metodología CRISP-DM\n",
        "\n",
        "Hemos elegido la metodología CRISP-DM debido a que nuestras preguntas planteadas tienen distintos acercamientos tanto de modelación como de tipo de resultados es perados y eso hace que una metodología flexible sirva para todo el estudio.\n",
        "\n",
        "\n",
        "    1.- Entendimiento del negocio\n",
<<<<<<< HEAD
        "Al ser nuestros actores interesados en la información de diversos sectores, nos concentraremos en el uso de nuestra información para cada uno de los tres mencionados en la sección anterior.\n",
=======
        "Al ser nuestros actores interesados en lo que pueda salir de insights de la información diversos sectores, nos concentraremos en el uso de nuestra información para cada uno de los tres mencionados en la sección anterior.\n",
>>>>>>> 320ce4a95a64a7f3cbb7372fc2dc56010f8f2997
        "\n",
        "    2.- Entendimiento de la información\n",
        "Hemos utilizado información de la institución nacional colombiana directamente del gobierno podemos acceder a su descripción de cada una de las variables. La información financiera y de las instituciones también fue complementada con un senso poblacional del mismo país para poder hacer conclusiones mejor argumentadas.\n",
        "\n",
        "    3.- Preparación de la información\n",
        "Se hizo una limpieza de los datos que presentaban comas en los números para que fueran consistentes su  uso en México. También se limpiaron los nombres de los estados y distritos para poder hacer un cruce con la información sensal.\n",
        "\n",
        "    4.- Modelado\n",
        "El modelado previo se hará sobre segmentos geográficos, por institución bancario y sexo de los usuarios. Eso con el fin de poder dar respuesta a las preguntas planteadas.\n",
        "\n",
        "    5.- Evaluación\n",
        "Las evaluaciones de los resultados se harán con las métricas matemáticas en el caso de ser una pregunta que puede ser respondida con inferencia estadística o en el caso de uso de modelos de regresión el uso de RMSE para evaluar la presición de nuestros modelos.\n",
        "\n",
        "    6.- Despliegue\n",
        "Si es que el proceso de evaluación y modelado ofrece respuestas a las preguntas con métricas consistentes, el despliegue del modelo puede ser dado en campañas las cuales constante mente se estén alimentando de la información gubernamental para su ajuste de parámetros."
      ]
    }
  ],
  "metadata": {
    "colab": {
      "collapsed_sections": [],
      "include_colab_link": true,
      "provenance": []
    },
    "kernelspec": {
      "display_name": "Python 3.10.7 ('mna_env')",
      "language": "python",
      "name": "python3"
    },
    "language_info": {
      "codemirror_mode": {
        "name": "ipython",
        "version": 3
      },
      "file_extension": ".py",
      "mimetype": "text/x-python",
      "name": "python",
      "nbconvert_exporter": "python",
      "pygments_lexer": "ipython3",
      "version": "3.10.7"
    },
    "vscode": {
      "interpreter": {
        "hash": "1f0fd73d090cde0cd3394bfad2add41b5c8da40660366e2b11ef06e031550b5b"
      }
    }
  },
  "nbformat": 4,
  "nbformat_minor": 0
}
