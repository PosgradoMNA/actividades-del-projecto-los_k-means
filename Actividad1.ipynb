{
  "cells": [
    {
      "cell_type": "markdown",
      "metadata": {
        "colab_type": "text",
        "id": "view-in-github"
      },
      "source": [
        "<a href=\"https://colab.research.google.com/github/PosgradoMNA/actividades-del-projecto-los_k-means/blob/main/Actividad1.ipynb\" target=\"_parent\"><img src=\"https://colab.research.google.com/assets/colab-badge.svg\" alt=\"Open In Colab\"/></a>"
      ]
    },
    {
      "cell_type": "markdown",
      "metadata": {
        "id": "7sxvDnZLcBry"
      },
      "source": [
        "# ACTIVIDAD 1: IDENTIFICAR FUENTES DE DATOS\n"
      ]
    },
    {
      "cell_type": "markdown",
      "metadata": {
        "id": "ygKrRnO9cnJP"
      },
      "source": [
        "NOMBRE CONJUNTO DE DATOS: Inclusión Financiera en Colombia\n",
        "\n",
        "ORGANIZACIÓN QUE LO GENERA: Superindendencia Financiera de Colombia\n",
        "\n",
        "ENLACE DE DESCARGA: https://www.datos.gov.co/Econom-a-y-Finanzas/Inclusi-n-Financiera/kx2f-xjdq/data"
      ]
    },
    {
      "cell_type": "markdown",
      "metadata": {
        "id": "BWgYwNnTq55T"
      },
      "source": [
        "PREGUNTAS DE INVESTIGACÓN\n",
        "\n",
        "1. ¿La inlclusión financiera tiene una relación directa con la cantidad de corresponsales bancarios en los municipios de Colombia?\n",
        "2. ¿Existe una tendencia hacia el microcredito en los municipios fuera el casco urbano?\n",
        "3. ¿Cuales son los tipos de productos financieros predominantes por genero en cada departamento?\n",
        "4. ¿En cuales municipios existen oportunidades en colocación de crédito de acuerdo a sus niveles de pasivo?\n",
        "5. ¿Cúal es el producto financiero más usado por cada genero (Crédito de consumo, Crédito Hipotecario, Cuenta de Ahorro, Microcredito)\n",
        "6. ¿Cuales son las zonas que tienen mayor tendencia a obtener un crédito hipotecario?\n",
        "7. ¿Existe una correlación inversa entre la cantidad de microcreditos y la cantidad de ahorro en los municipios?\n",
        "8. ¿Existe una entidad financiera con una correlación directa en la aprobación de productos de crédito por genero?"
      ]
    },
    {
      "cell_type": "markdown",
      "metadata": {
        "id": "341YG9HoA5f7"
      },
      "source": [
        "Actores interesados.\n",
        "- Superitendencia Financiera de Colombia\n",
        "- ONG especializadas en la diversidad e inclusión\n",
        "- Entidades Financieras"
      ]
    },
    {
      "cell_type": "markdown",
      "metadata": {},
      "source": []
    }
  ],
  "metadata": {
    "colab": {
      "collapsed_sections": [],
      "include_colab_link": true,
      "provenance": []
    },
    "kernelspec": {
      "display_name": "Python 3.10.7 64-bit",
      "language": "python",
      "name": "python3"
    },
    "language_info": {
      "name": "python",
      "version": "3.10.7"
    },
    "vscode": {
      "interpreter": {
        "hash": "1418645e23dba782d281558ed166d6abc368aba746def0b2ea98a16bae85ccbc"
      }
    }
  },
  "nbformat": 4,
  "nbformat_minor": 0
}
